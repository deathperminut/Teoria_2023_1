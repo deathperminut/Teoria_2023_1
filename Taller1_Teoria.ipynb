{
  "nbformat": 4,
  "nbformat_minor": 0,
  "metadata": {
    "colab": {
      "provenance": []
    },
    "kernelspec": {
      "name": "python3",
      "display_name": "Python 3"
    },
    "language_info": {
      "name": "python"
    }
  },
  "cells": [
    {
      "cell_type": "markdown",
      "source": [
        "Sebastian Velez Puerta\t\t\t1005966808\t\n",
        "Santiago Esteban Jurado\t\t\t1004917685\t\t\n",
        "Primer Taller Teoria de Señales"
      ],
      "metadata": {
        "id": "9I_elrY5rypO"
      }
    },
    {
      "cell_type": "code",
      "execution_count": null,
      "metadata": {
        "colab": {
          "base_uri": "https://localhost:8080/"
        },
        "id": "rxYi2_-BTGBF",
        "outputId": "0b2bd0c5-1c48-45fb-f8e2-abd6c2214d96"
      },
      "outputs": [
        {
          "name": "stdout",
          "output_type": "stream",
          "text": [
            "Escribir un numero entero (0 para parar): 0\n"
          ]
        }
      ],
      "source": [
        "def suma_de_digitos(numero):\n",
        "    return sum(int(digitos) for digitos in str(numero))\n",
        "\n",
        "numero = 1\n",
        "while numero != 0:\n",
        "    numero = int(input(\"Escribir un numero entero (0 para parar): \"))\n",
        "    if numero != 0:\n",
        "        print(\"Suma de digitos:\", suma_de_digitos(numero))\n",
        "'''\n",
        "Este código define una función suma_de_digitos que suma los dígitos de un número. \n",
        "Luego, en el cuerpo principal del programa, se solicita un número al usuario y se verifica si es igual a cero. \n",
        "Si es así, se termina el programa. \n",
        "Si no es cero, se muestra la suma de sus dígitos.\n",
        "\n",
        "'''"
      ]
    },
    {
      "cell_type": "code",
      "source": [
        "def suma_de_digitos2(numero):\n",
        "    return sum(int(digitos) for digitos in str(numero))\n",
        "\n",
        "numero = 1\n",
        "suma_de_numeros = 0\n",
        "while numero != 0:\n",
        "    numero = int(input(\"Escriba un numero entero (0 para parar): \"))\n",
        "    suma_de_numeros += numero\n",
        "    if numero != 0:\n",
        "        print(\"Suma de digitos:\", suma_de_digitos2(numero))\n",
        "print(\"Suma de todos los numeros :\", suma_de_numeros)\n",
        "'''\n",
        "Este código define una función suma_de_digitos2 que suma los dígitos de un número. \n",
        "Luego, en el cuerpo principal del programa, se solicita un número al usuario y se verifica si es igual a cero. \n",
        "Si es así, se termina el programa y se muestra la suma total de todos los números ingresados. \n",
        "Si no es cero, se suma el número a la suma total y se muestra la suma de sus dígitos.\n",
        "\n",
        "'''"
      ],
      "metadata": {
        "colab": {
          "base_uri": "https://localhost:8080/"
        },
        "id": "DsaY8lotTm4y",
        "outputId": "053a7a31-ce93-4e4f-ac20-32a67ce68233"
      },
      "execution_count": null,
      "outputs": [
        {
          "output_type": "stream",
          "name": "stdout",
          "text": [
            "Escriba un numero entero (0 para parar): 0\n",
            "Suma de todos los numeros : 0\n"
          ]
        }
      ]
    },
    {
      "cell_type": "code",
      "source": [
        "def es_primo(numero):\n",
        "    if numero <= 1:\n",
        "        return False\n",
        "    for i in range(2, int(numero**0.5)+1):\n",
        "        if numero % i == 0:\n",
        "            return False\n",
        "    return True\n",
        "\n",
        "numero = int(input(\"Escriba un numero entero: \"))\n",
        "if es_primo(numero):\n",
        "    print(numero, \"Es un numero primo\")\n",
        "else:\n",
        "    print(numero, \"No es un numero primo\")\n",
        "\n",
        "'''\n",
        "Este código define una función es_primo que verifica si un número es primo o no. \n",
        "Luego, en el cuerpo principal del programa, se solicita un número al usuario e imprime si es primo o no dependiendo del resultado de la función es_primo.\n",
        "'''"
      ],
      "metadata": {
        "colab": {
          "base_uri": "https://localhost:8080/"
        },
        "id": "eYBit85rUkhg",
        "outputId": "042c2f69-c89d-4aaf-805d-0f3f0859d3fe"
      },
      "execution_count": null,
      "outputs": [
        {
          "output_type": "stream",
          "name": "stdout",
          "text": [
            "Escriba un numero entero: 35\n",
            "35 No es un numero primo\n"
          ]
        }
      ]
    },
    {
      "cell_type": "code",
      "source": [
        "#1\n",
        "def f1() : \n",
        "    A = int(input(\"Digite un número :\"))                                       \n",
        "    SD = 0         \n",
        "    COUNT = 0                                                  \n",
        "    while    (A !=  0) : \n",
        "        UD = A % 10 \n",
        "        PD =  int (A/10) \n",
        "        SD += (UD+PD)\n",
        "        COUNT += A\n",
        "        A = int(input(\"Digite un número : \"))\n",
        "        if A == 0 :break \n",
        "    print (\"La suma de los dígitos es: \",SD)\n",
        "    x = [COUNT, SD]\n",
        "    return  x\n",
        "'''\n",
        "Función F1:\n",
        "Características:\n",
        "No presenta parámetros por ingresar. \n",
        "Funcionalidad: Solicitar ingresar por consola diferentes números para obtener su sumatoria y la de sus dígitos hasta que se ingrese un 0. \n",
        "Tipo de dato: lista con dos valores enteros. \n",
        "'''\n",
        "#PROGRAMA 1 \n",
        "ED= 'SI'\n",
        "while ED=='SI' or 'si' or 'Si' or 'sI':\n",
        "  print (\"A continuación se solicita ingresar números.\\nMientras que este sea diferente de cero, se ejecutará la suma de sus dígitos.\")\n",
        "  try :\n",
        "    solicitarNumeros = f1()\n",
        "  except ValueError:\n",
        "    print(\"Error ingresando un número. Intente nuevamente.\")\n",
        "  ED =  input('Para continuar con el registro, digite \"SI\" :') \n",
        "  if ED != 'SI' : break\n",
        "print (\"Salió del registro con éxito.\")\n",
        "\n",
        "\n",
        "####################################################################################################################################################\n",
        "#PROGRAMA 2\n",
        "ED2= 'SI'\n",
        "sumatoriaNumeros = 0\n",
        "sumatoriaDigitos = 0\n",
        "while ED2=='SI' or 'si' or 'Si' or 'sI':\n",
        "  print (\"A continuación se solicita ingresar números.\\nMientras que este sea diferente de cero, la suma de sus dígitos se efectuará.\")\n",
        "  try :\n",
        "    solicitarNumeros = f1() \n",
        "    sumatoriaNumeros += solicitarNumeros[0]\n",
        "    sumatoriaDigitos += solicitarNumeros[1]\n",
        "  except ValueError:\n",
        "    print(\"Error ingresando un número. Intente nuevamente.\")\n",
        "  ED2 =  input('Para continuar con el registro, digite \"SI\" :') \n",
        "  if ED2 != 'SI' : break\n",
        "print (\"Salió del registro con éxito.\\nLa sumatoria de todos los números ingresados es: \",sumatoriaNumeros)\n",
        "print(\"Además, la suma de sus dígitos es : \",sumatoriaDigitos)\n",
        "\n",
        "####################################################################################################################################################\n",
        "#3\n",
        "def f2(A):\n",
        "    if A <= 1:\n",
        "        return False\n",
        "    if A <4:\n",
        "        return True\n",
        "    if A%2==0:\n",
        "        return False\n",
        "    FAC = 3\n",
        "    while A!=FAC:\n",
        "        R= A%FAC\n",
        "        if R==0:\n",
        "            return False\n",
        "        elif R!=0: \n",
        "            FAC+= 2\n",
        "    return True\n",
        "'''\n",
        "Función F2:\n",
        "Características:\n",
        "Presenta un parámetro (A) por ingresar, para completar y validar lo solicitado. \n",
        "Funcionalidad: Recibe un valor como parámetro y verifica si este es primo o no. \n",
        "Donde True, significa que el número entero digitado es primo.  \n",
        "Tipo de dato: Booleano o valor de verdad. \n",
        "'''\n",
        "#Programa3\n",
        "ED= 'SI'\n",
        "while ED=='SI' or 'si' or 'Si' or 'sI':\n",
        "  print (\"A continuación se solicita ingresar un número entero.\")\n",
        "  try :\n",
        "    númeroEntero = int(input(\"Ingrese el número entero para verificar sí este es primo  o no :\"))\n",
        "    if f2(númeroEntero)== True: print(\"El número entero ingresado es primo.\")\n",
        "    else: print(\"El número entero ingresado es no primo.\")\n",
        "  except ValueError:\n",
        "    print(\"Error ingresando un número. Intente nuevamente.\")\n",
        "  ED =  input('Para continuar con el registro, digite \"SI\" :') \n",
        "  if ED != 'SI' : break\n",
        "print (\"Salió del registro con éxito.\")"
      ],
      "metadata": {
        "colab": {
          "base_uri": "https://localhost:8080/"
        },
        "id": "KbBdXPD8o1ON",
        "outputId": "78cd449b-02d3-4de0-a616-55c30ff1c23f"
      },
      "execution_count": null,
      "outputs": [
        {
          "output_type": "stream",
          "name": "stdout",
          "text": [
            "A continuación se solicita ingresar números.\n",
            "Mientras que este sea diferente de cero, se ejecutará la suma de sus dígitos.\n",
            "Digite un número :89\n",
            "Digite un número : 0\n",
            "La suma de los dígitos es:  17\n",
            "Para continuar con el registro, digite \"SI\" :si\n",
            "Salió del registro con éxito.\n",
            "A continuación se solicita ingresar números.\n",
            "Mientras que este sea diferente de cero, la suma de sus dígitos se efectuará.\n",
            "Digite un número :89\n",
            "Digite un número : 0\n",
            "La suma de los dígitos es:  17\n",
            "Para continuar con el registro, digite \"SI\" :si\n",
            "Salió del registro con éxito.\n",
            "La sumatoria de todos los números ingresados es:  89\n",
            "Además, la suma de sus dígitos es :  17\n",
            "A continuación se solicita ingresar un número entero.\n",
            "Ingrese el número entero para verificar sí este es primo  o no :88\n",
            "El número entero ingresado es no primo.\n",
            "Para continuar con el registro, digite \"SI\" :si\n",
            "Salió del registro con éxito.\n"
          ]
        }
      ]
    }
  ]
}
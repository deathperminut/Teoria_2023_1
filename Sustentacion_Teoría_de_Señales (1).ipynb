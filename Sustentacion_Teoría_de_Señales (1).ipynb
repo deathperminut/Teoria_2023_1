{
  "nbformat": 4,
  "nbformat_minor": 0,
  "metadata": {
    "colab": {
      "provenance": []
    },
    "kernelspec": {
      "name": "python3",
      "display_name": "Python 3"
    },
    "language_info": {
      "name": "python"
    }
  },
  "cells": [
    {
      "cell_type": "markdown",
      "source": [
        "#Taller Teoría de Señales - Redes Neuronaes Manual\n",
        "# 19 de Abril de 2023\n",
        "\n",
        "###*Integrantes:*\n",
        "#####Daniel Steven Lozada - 1010148612\n",
        "#####Federico Lopez - 1002576446\n",
        "#####Santiago Erazo Mora - 1082658664"
      ],
      "metadata": {
        "id": "3ca4SfHHSdac"
      }
    },
    {
      "cell_type": "code",
      "source": [
        "\"\"\"\n",
        "      ---------------------------------------------------------------\n",
        "Parameters\n",
        "      ---------------------------------------------------------------\n",
        "url -> Database hosting address\n",
        "column_names -> Variables selected for measurement.\n",
        "data -> Training data\n",
        "X_train -> Training and testing variables\n",
        "X_test -> Training and testing variables\n",
        "Y_train -> Training and testing variables\n",
        "Y_test -> Training and testing variables\n",
        "\n",
        "Returns\n",
        "      ---------------------------------------------------------------\n",
        "test_error -> Returns the loss rate of the trained model.\n",
        "output -> Input- Output relationship\n",
        "\n",
        "\"\"\"\n",
        "\n",
        "import numpy as np\n",
        "import pandas as pd\n",
        "import matplotlib.pyplot as plt\n",
        "from sklearn.model_selection import train_test_split\n",
        "\n",
        "# Funciones de activación\n",
        "def sigmoid(x, derivative=False):\n",
        "    if derivative:\n",
        "        return sigmoid(x) * (1 - sigmoid(x))\n",
        "    else:\n",
        "        return 1 / (1 + np.exp(-x))\n",
        "\n",
        "def relu(x, derivative=False):\n",
        "    if derivative:\n",
        "        x[x<=0] = 0\n",
        "        x[x>0] = 1\n",
        "        return x\n",
        "    else:\n",
        "        return np.maximum(0,x)\n",
        "    \n",
        "def mse(y_true, y_pred, derivative=False):\n",
        "    if derivative:\n",
        "        return (y_pred-y_true)/y_true.shape[0]\n",
        "    else:\n",
        "        return np.mean((y_true-y_pred)**2)\n",
        "\n",
        "# Función de entrenamiento manual\n",
        "def train(X_data, Y_data, lr, params, training=True):\n",
        "    # Forward\n",
        "    params['A0'] = X_data\n",
        "    params['Z1'] = np.matmul(params['A0'], params['W1']) + params['b1']\n",
        "    params['A1'] = relu(params['Z1'])\n",
        "    params['Z2'] = np.matmul(params['A1'], params['W2']) + params['b2']\n",
        "    params['A2'] = relu(params['Z2'])\n",
        "    params['Z3'] = np.matmul(params['A2'], params['W3']) + params['b3']\n",
        "    params['A3'] = sigmoid(params['Z3'])\n",
        "\n",
        "    output = params['A3']\n",
        "\n",
        "    if training:\n",
        "        # Backpropagation\n",
        "        params['dZ3'] = mse(Y_data, output, True) * sigmoid(params['A3'], True)\n",
        "        params['dW3'] = np.matmul(params['A2'].T, params['dZ3'])\n",
        "        params['dZ2'] = np.matmul(params['dZ3'], params['W3'].T) * relu(params['A2'], True)\n",
        "        params['dW2'] = np.matmul(params['A1'].T, params['dZ2'])\n",
        "        params['dZ1'] = np.matmul(params['dZ2'], params['W2'].T) * relu(params['A1'], True)\n",
        "        params['dW1'] = np.matmul(params['A0'].T, params['dZ1'])\n",
        "\n",
        "        # Gradient Descent\n",
        "        params['W3'] = params['W3'] - params['dW3'] * lr\n",
        "        params['b3'] = params['b3'] - np.mean(params['dZ3'], axis=0, keepdims=True) * lr\n",
        "        params['W2'] = params['W2'] - params['dW2'] * lr\n",
        "        params['b2'] = params['b2'] - np.mean(params['dZ2'], axis=0, keepdims=True) * lr\n",
        "        params['W1'] = params['W1'] - params['dW1'] * lr\n",
        "        params['b1'] = params['b1'] - np.mean(params['dZ1'], axis=0, keepdims=True) * lr\n",
        "\n",
        "    return output\n",
        "\n",
        "url = \"https://archive.ics.uci.edu/ml/machine-learning-databases/heart-disease/processed.cleveland.data\"\n",
        "column_names = ['age', 'sex', 'cp', 'trestbps', 'chol', 'fbs', 'restecg', 'thalach', 'exang', 'oldpeak', 'slope', 'ca', 'thal', 'target']\n",
        "data = pd.read_csv(url, names=column_names)\n",
        "\n",
        "#Preprocesamiento de los datos\n",
        "data = data.dropna()\n",
        "\n",
        "\n",
        "# Reemplazar los signos '?' por NaN\n",
        "data = data.replace('?', np.nan)\n",
        "# Convertir a float y reemplazar NaN por la media de la columna\n",
        "data = data.astype(float)\n",
        "data = data.fillna(data.mean())\n",
        "\n",
        "\n",
        "\n",
        "data = data.reset_index(drop=True)\n",
        "data['target'][data['target']>0] = 1\n",
        "X = data.drop('target', axis=1)\n",
        "Y = data['target'].values.reshape(-1,1)\n",
        "\n",
        "X_train, X_test, Y_train, Y_test = train_test_split(X, Y, test_size=0.2)\n",
        "\n",
        "#Inicialización de los parámetros de la red neuronal\n",
        "input_size = X_train.shape[1]\n",
        "hidden_size_1 = 32\n",
        "hidden_size_2 = 16\n",
        "output_size = 1\n",
        "W1 = np.random.randn(input_size, hidden_size_1)\n",
        "b1 = np.zeros((1, hidden_size_1))\n",
        "W2 = np.random.randn(hidden_size_1, hidden_size_2)\n",
        "b2 = np.zeros((1, hidden_size_2))\n",
        "W3 = np.random.randn(hidden_size_2, output_size)\n",
        "b3 = np.zeros((1, output_size))\n",
        "\n",
        "params = {'W1': W1, 'b1': b1, 'W2': W2, 'b2': b2, 'W3': W3, 'b3': b3}\n",
        "\n",
        "#Entrenamiento de la red neuronal\n",
        "epochs = 10000\n",
        "learning_rate = 0.0001\n",
        "train_errors = []\n",
        "X_train_array = np.array(X_train.values, dtype=float)\n",
        "output = train(X_train_array, Y_train, learning_rate, params, training=True)\n",
        "\n",
        "\n",
        "for i in range(epochs):\n",
        "  output = train(X_train.values, Y_train, learning_rate, params, training=True)\n",
        "  train_error = mse(Y_train, output)\n",
        "  train_errors.append(train_error)\n",
        "if i % 1000 == 0:\n",
        "  print(\"Epoch:\", i, \"Train error:\", train_error)\n",
        "\n",
        "\n",
        "X_test_array = np.array(X_test.values, dtype=float)\n",
        "# Obtener las predicciones\n",
        "predictions = train(X_test_array, Y_test, learning_rate, params, training=False)\n",
        "\n",
        "\n",
        "#Evaluación de la red neuronal\n",
        "output = train(X_test.values, Y_test, learning_rate, params, training=False)\n",
        "test_error = mse(Y_test, output)\n",
        "print(\"Test error:\", test_error)\n",
        "\n",
        "#Gráfico del error de entrenamiento\n",
        "plt.plot(train_errors)\n",
        "plt.title(\"Train error over time\")\n",
        "plt.xlabel(\"Epochs\")\n",
        "plt.ylabel(\"Train error\")\n",
        "plt.show()\n",
        "\n"
      ],
      "metadata": {
        "colab": {
          "base_uri": "https://localhost:8080/",
          "height": 524
        },
        "id": "GLhhBVYHV3yv",
        "outputId": "d682fc17-c435-4365-d078-52773c0ca354"
      },
      "execution_count": 1,
      "outputs": [
        {
          "output_type": "stream",
          "name": "stderr",
          "text": [
            "<ipython-input-1-7338be6a9464>:11: RuntimeWarning: overflow encountered in exp\n",
            "  return 1 / (1 + np.exp(-x))\n"
          ]
        },
        {
          "output_type": "stream",
          "name": "stdout",
          "text": [
            "Test error: 0.3359203130478448\n"
          ]
        },
        {
          "output_type": "display_data",
          "data": {
            "text/plain": [
              "<Figure size 640x480 with 1 Axes>"
            ],
            "image/png": "[encoded data removed]"
          },
          "metadata": {}
        }
      ]
    },
    {
      "cell_type": "code",
      "source": [
        "# Evaluación de la red neuronal con los nuevos datos de prueba\n",
        "new_data = np.array([[63, 1, 3, 145, 233, 1, 0, 150, 0, 2.3, 0, 0, 1]]) # Datos de prueba\n",
        "output = train(new_data, np.array([]), learning_rate, params, training=False)\n",
        "print(\"Output:\", output)\n"
      ],
      "metadata": {
        "colab": {
          "base_uri": "https://localhost:8080/"
        },
        "id": "8HsDFeNTHejQ",
        "outputId": "a835a366-814d-4926-9d8c-c4eb14a9a77b"
      },
      "execution_count": null,
      "outputs": [
        {
          "output_type": "stream",
          "name": "stdout",
          "text": [
            "Output: [[1.]]\n"
          ]
        }
      ]
    },
    {
      "cell_type": "code",
      "source": [
        "rounded_output = round(output[0][0])\n",
        "\n",
        "print(\"Output:\", rounded_output)"
      ],
      "metadata": {
        "colab": {
          "base_uri": "https://localhost:8080/"
        },
        "id": "dDLBRD3zHzyM",
        "outputId": "faf77df7-4eb1-4520-ccdc-e20383a33634"
      },
      "execution_count": null,
      "outputs": [
        {
          "output_type": "stream",
          "name": "stdout",
          "text": [
            "Output: 1\n"
          ]
        }
      ]
    }
  ]
}
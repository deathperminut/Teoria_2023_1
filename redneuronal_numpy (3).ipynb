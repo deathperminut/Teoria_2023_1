{
  "nbformat": 4,
  "nbformat_minor": 0,
  "metadata": {
    "colab": {
      "provenance": []
    },
    "kernelspec": {
      "name": "python3",
      "display_name": "Python 3"
    },
    "language_info": {
      "name": "python"
    }
  },
  "cells": [
    {
      "cell_type": "markdown",
      "source": [
        "# Santiago Mosquera Erazo\n",
        "# Diego Andrés Erira Benítez\n",
        "# Daniel Jesus Pino Silgado"
      ],
      "metadata": {
        "id": "aZ34HEt2Dd4A"
      }
    },
    {
      "cell_type": "markdown",
      "source": [
        "# **Taller # 1**"
      ],
      "metadata": {
        "id": "DmM1X1-FGIvx"
      }
    },
    {
      "cell_type": "code",
      "execution_count": null,
      "metadata": {
        "id": "vYdwbBaPgb_p"
      },
      "outputs": [],
      "source": [
        "import numpy as np\n",
        "import pandas as pd\n",
        "import matplotlib.pyplot as plt\n",
        "from keras import layers,models,optimizers"
      ]
    },
    {
      "cell_type": "markdown",
      "source": [
        "# Red neuronal con keras"
      ],
      "metadata": {
        "id": "IveMdodE6uwW"
      }
    },
    {
      "cell_type": "markdown",
      "source": [
        "**grados farenheit a celsius**"
      ],
      "metadata": {
        "id": "W3d3FyBw8zS-"
      }
    },
    {
      "cell_type": "code",
      "source": [
        "# Modelo para pasar de grados farenheit a celsius\n",
        "grados_farenheit = np.array([20, 40, 100, 45, 50, 120, 200,250, 5])\n",
        "grados_celsius = np.array([-6.6, 4.4, 37.7, 7.22, 10, 48.8, 93.3, 121.1, -1 ])"
      ],
      "metadata": {
        "id": "ISe-f0KpMTjr"
      },
      "execution_count": null,
      "outputs": []
    },
    {
      "cell_type": "code",
      "source": [
        "#red neuronal secuencial con tres capas densas.\n",
        "def modeloS():\n",
        "  model = models.Sequential()\n",
        "  model.add(layers.Dense(2,input_shape=[1])) #La primera capa densa tiene 2 neuronas y toma una entrada de un tensor de rango uno (vector)\n",
        "  model.add(layers.Dense(2)) #La segunda capa densa tiene 2 neuronas, no se especifica una entrada porque la capa recibirá automáticamente la salida de la capa anterior\n",
        "  model.add(layers.Dense(1)) #La tercera capa densa tiene una sola neurona, lo que indica que el modelo producirá una sola salida.\n",
        "  return model\n",
        "\n",
        "#modelops es un modelo de red neuronal entrenado para realizar una tarea de regresión\n",
        "modelops = modeloS()"
      ],
      "metadata": {
        "id": "7iPm4PY9M0xZ"
      },
      "execution_count": null,
      "outputs": []
    },
    {
      "cell_type": "code",
      "source": [
        "modelops.summary() #resumen de la arquitectura del modelomostrando información sobre cada capa, como el nombre de la capa, el tamaño de la salida y el número de parámetros entrenables y no entrenables de cada capa"
      ],
      "metadata": {
        "colab": {
          "base_uri": "https://localhost:8080/"
        },
        "id": "VzCuysMEUM-l",
        "outputId": "ad86c383-39b3-4842-d64a-5a0fa2a5791a"
      },
      "execution_count": null,
      "outputs": [
        {
          "output_type": "stream",
          "name": "stdout",
          "text": [
            "Model: \"sequential\"\n",
            "_________________________________________________________________\n",
            " Layer (type)                Output Shape              Param #   \n",
            "=================================================================\n",
            " dense (Dense)               (None, 2)                 4         \n",
            "                                                                 \n",
            " dense_1 (Dense)             (None, 2)                 6         \n",
            "                                                                 \n",
            " dense_2 (Dense)             (None, 1)                 3         \n",
            "                                                                 \n",
            "=================================================================\n",
            "Total params: 13\n",
            "Trainable params: 13\n",
            "Non-trainable params: 0\n",
            "_________________________________________________________________\n"
          ]
        }
      ]
    },
    {
      "cell_type": "code",
      "source": [
        "#Configurar la fase de entrenamiento del modelo. El optimizador es Adam,la función de pérdida es el error cuadrático medio y la métrica es también el error cuadrático medio\n",
        "modelops.compile(optimizer=optimizers.Adam(lr=0.1),loss='mse', metrics=['mse']) "
      ],
      "metadata": {
        "colab": {
          "base_uri": "https://localhost:8080/"
        },
        "id": "CNqh0xCmPUsz",
        "outputId": "139b7089-2f1e-45fc-a0d0-c5661281fefc"
      },
      "execution_count": null,
      "outputs": [
        {
          "output_type": "stream",
          "name": "stderr",
          "text": [
            "/usr/local/lib/python3.10/dist-packages/keras/optimizers/legacy/adam.py:117: UserWarning: The `lr` argument is deprecated, use `learning_rate` instead.\n",
            "  super().__init__(name, **kwargs)\n"
          ]
        }
      ]
    },
    {
      "cell_type": "code",
      "source": [
        "#fit() en Keras se utiliza para entrenar un modelo de red neuronal\n",
        "#x: los datos de entrada para el modelo (los valores de los predictores).\n",
        "#y: los datos de salida esperados (los valores de la variable objetivo).\n",
        "#epochs: el modelo se ajustará a los datos de entrenamiento durante 200 épocas antes de que el entrenamiento termine\n",
        "#verbose: el nivel de detalle de los mensajes de salida durante el entrenamiento.\n",
        "history = modelops.fit(x=grados_farenheit,y=grados_celsius,epochs=200, verbose=False)"
      ],
      "metadata": {
        "id": "nBvQzKQwQ7FZ"
      },
      "execution_count": null,
      "outputs": []
    },
    {
      "cell_type": "code",
      "source": [
        "#Los detalles del entrenamiento, como la pérdida y las métricas, se almacenan en history.\n",
        "#Lista que contiene el valor de la función de pérdida en cada época del entrenamiento del modelo\n",
        "history.history['loss']"
      ],
      "metadata": {
        "colab": {
          "base_uri": "https://localhost:8080/"
        },
        "id": "bKE_I-BLRirs",
        "outputId": "fcb97127-1f6d-4637-bc9f-68b9fe1c6c5d"
      },
      "execution_count": null,
      "outputs": [
        {
          "output_type": "execute_result",
          "data": {
            "text/plain": [
              "[934.78125,\n",
              " 738.6551513671875,\n",
              " 540.5906982421875,\n",
              " 111.2186050415039,\n",
              " 238.47132873535156,\n",
              " 407.16851806640625,\n",
              " 359.4134521484375,\n",
              " 201.66290283203125,\n",
              " 99.8311996459961,\n",
              " 125.34464263916016,\n",
              " 204.7967987060547,\n",
              " 216.51800537109375,\n",
              " 152.2218780517578,\n",
              " 93.99799346923828,\n",
              " 91.92709350585938,\n",
              " 127.28456115722656,\n",
              " 155.295166015625,\n",
              " 149.73841857910156,\n",
              " 116.51145935058594,\n",
              " 83.34968566894531,\n",
              " 76.30926513671875,\n",
              " 95.17861938476562,\n",
              " 112.12825012207031,\n",
              " 104.32308959960938,\n",
              " 80.6346206665039,\n",
              " 65.86112976074219,\n",
              " 69.98274993896484,\n",
              " 81.64203643798828,\n",
              " 84.71981811523438,\n",
              " 74.7408676147461,\n",
              " 61.01161575317383,\n",
              " 55.74778747558594,\n",
              " 60.84718322753906,\n",
              " 66.1491470336914,\n",
              " 62.56342315673828,\n",
              " 53.2368049621582,\n",
              " 47.73064422607422,\n",
              " 49.32750701904297,\n",
              " 52.58675003051758,\n",
              " 51.34114074707031,\n",
              " 45.720069885253906,\n",
              " 41.00831985473633,\n",
              " 40.80287170410156,\n",
              " 42.71385192871094,\n",
              " 42.01382827758789,\n",
              " 38.1788330078125,\n",
              " 34.96874237060547,\n",
              " 34.72116470336914,\n",
              " 35.59580612182617,\n",
              " 34.72951126098633,\n",
              " 32.06169509887695,\n",
              " 29.970096588134766,\n",
              " 29.79044532775879,\n",
              " 30.104379653930664,\n",
              " 29.071407318115234,\n",
              " 27.127220153808594,\n",
              " 25.99964141845703,\n",
              " 26.009737014770508,\n",
              " 25.869230270385742,\n",
              " 24.78791046142578,\n",
              " 23.514060974121094,\n",
              " 23.01848602294922,\n",
              " 23.021827697753906,\n",
              " 22.584922790527344,\n",
              " 21.64775848388672,\n",
              " 20.983963012695312,\n",
              " 20.859880447387695,\n",
              " 20.709545135498047,\n",
              " 20.1513671875,\n",
              " 19.54884147644043,\n",
              " 19.320056915283203,\n",
              " 19.256797790527344,\n",
              " 18.954177856445312,\n",
              " 18.506139755249023,\n",
              " 18.26704216003418,\n",
              " 18.217876434326172,\n",
              " 18.060081481933594,\n",
              " 17.758285522460938,\n",
              " 17.554384231567383,\n",
              " 17.511131286621094,\n",
              " 17.43007469177246,\n",
              " 17.236106872558594,\n",
              " 17.08715057373047,\n",
              " 17.05573272705078,\n",
              " 17.014400482177734,\n",
              " 16.89344024658203,\n",
              " 16.79339027404785,\n",
              " 16.775564193725586,\n",
              " 16.75608253479004,\n",
              " 16.681385040283203,\n",
              " 16.62023162841797,\n",
              " 16.614959716796875,\n",
              " 16.606733322143555,\n",
              " 16.561037063598633,\n",
              " 16.52696990966797,\n",
              " 16.530040740966797,\n",
              " 16.527095794677734,\n",
              " 16.49925422668457,\n",
              " 16.483224868774414,\n",
              " 16.490535736083984,\n",
              " 16.4891357421875,\n",
              " 16.47247314453125,\n",
              " 16.46730613708496,\n",
              " 16.475317001342773,\n",
              " 16.473716735839844,\n",
              " 16.46416664123535,\n",
              " 16.464935302734375,\n",
              " 16.47140121459961,\n",
              " 16.469070434570312,\n",
              " 16.464216232299805,\n",
              " 16.46743392944336,\n",
              " 16.471338272094727,\n",
              " 16.46861457824707,\n",
              " 16.46682357788086,\n",
              " 16.470272064208984,\n",
              " 16.47167205810547,\n",
              " 16.469158172607422,\n",
              " 16.469186782836914,\n",
              " 16.47162628173828,\n",
              " 16.47119903564453,\n",
              " 16.469438552856445,\n",
              " 16.470251083374023,\n",
              " 16.471284866333008,\n",
              " 16.470016479492188,\n",
              " 16.469146728515625,\n",
              " 16.469938278198242,\n",
              " 16.469797134399414,\n",
              " 16.468528747558594,\n",
              " 16.468338012695312,\n",
              " 16.468664169311523,\n",
              " 16.467899322509766,\n",
              " 16.46707534790039,\n",
              " 16.4671688079834,\n",
              " 16.466995239257812,\n",
              " 16.46617889404297,\n",
              " 16.465856552124023,\n",
              " 16.465890884399414,\n",
              " 16.46541404724121,\n",
              " 16.464900970458984,\n",
              " 16.464855194091797,\n",
              " 16.464689254760742,\n",
              " 16.464248657226562,\n",
              " 16.464048385620117,\n",
              " 16.46402359008789,\n",
              " 16.463783264160156,\n",
              " 16.463529586791992,\n",
              " 16.46350860595703,\n",
              " 16.463420867919922,\n",
              " 16.46320915222168,\n",
              " 16.463157653808594,\n",
              " 16.463153839111328,\n",
              " 16.463043212890625,\n",
              " 16.462942123413086,\n",
              " 16.46297264099121,\n",
              " 16.462932586669922,\n",
              " 16.462852478027344,\n",
              " 16.462860107421875,\n",
              " 16.46286392211914,\n",
              " 16.462820053100586,\n",
              " 16.462806701660156,\n",
              " 16.462827682495117,\n",
              " 16.46281623840332,\n",
              " 16.46277618408203,\n",
              " 16.462806701660156,\n",
              " 16.46282196044922,\n",
              " 16.462793350219727,\n",
              " 16.462810516357422,\n",
              " 16.46283531188965,\n",
              " 16.462806701660156,\n",
              " 16.462812423706055,\n",
              " 16.462820053100586,\n",
              " 16.46281623840332,\n",
              " 16.462806701660156,\n",
              " 16.46282196044922,\n",
              " 16.462818145751953,\n",
              " 16.46282196044922,\n",
              " 16.462820053100586,\n",
              " 16.46282196044922,\n",
              " 16.462812423706055,\n",
              " 16.462820053100586,\n",
              " 16.46282386779785,\n",
              " 16.462812423706055,\n",
              " 16.462814331054688,\n",
              " 16.46281623840332,\n",
              " 16.462806701660156,\n",
              " 16.462804794311523,\n",
              " 16.462812423706055,\n",
              " 16.462806701660156,\n",
              " 16.46280288696289,\n",
              " 16.46279525756836,\n",
              " 16.462800979614258,\n",
              " 16.462800979614258,\n",
              " 16.462804794311523,\n",
              " 16.46280288696289,\n",
              " 16.462800979614258,\n",
              " 16.462791442871094,\n",
              " 16.462799072265625,\n",
              " 16.462800979614258,\n",
              " 16.462791442871094,\n",
              " 16.46279525756836]"
            ]
          },
          "metadata": {},
          "execution_count": 50
        }
      ]
    },
    {
      "cell_type": "code",
      "source": [
        "plt.xlabel('epochs')\n",
        "plt.ylabel('magnitud de perdida')\n",
        "plt.plot(history.history['loss'])"
      ],
      "metadata": {
        "id": "KQonk6ZpWugc",
        "colab": {
          "base_uri": "https://localhost:8080/",
          "height": 467
        },
        "outputId": "0ecbc13a-04b8-48d6-8872-516873622857"
      },
      "execution_count": null,
      "outputs": [
        {
          "output_type": "execute_result",
          "data": {
            "text/plain": [
              "[<matplotlib.lines.Line2D at 0x7f619ed5c160>]"
            ]
          },
          "metadata": {},
          "execution_count": 51
        },
        {
          "output_type": "display_data",
          "data": {
            "text/plain": [
              "<Figure size 640x480 with 1 Axes>"
            ],
            "image/png": "[encoded data removed]"
          },
          "metadata": {}
        }
      ]
    },
    {
      "cell_type": "code",
      "source": [
        "#Realizar una predicción para una entrada de temperatura de 300 grados Fahrenheit\n",
        "resultado = modelops.predict([300])\n",
        "print(f\"El resultado es {resultado} °celsius\")"
      ],
      "metadata": {
        "colab": {
          "base_uri": "https://localhost:8080/"
        },
        "id": "A0dmViAnNOFx",
        "outputId": "25be73af-934c-4563-a9b4-a414b3e7a211"
      },
      "execution_count": null,
      "outputs": [
        {
          "output_type": "stream",
          "name": "stdout",
          "text": [
            "1/1 [==============================] - 0s 368ms/step\n",
            "El resultado es [[145.92479]] °celsius\n"
          ]
        }
      ]
    },
    {
      "cell_type": "markdown",
      "source": [
        "**grados celsius a kelvin**"
      ],
      "metadata": {
        "id": "ih7OOlnI8_YF"
      }
    },
    {
      "cell_type": "code",
      "source": [
        "celsius = np.array([30,15,0,100,150,40,450,36.7,40.72,67], dtype=float)\n",
        "kelvin = np.array([303.15,288.15,273.15,373.15,423.15,313.15,723.15,309.85,313.87,340.15], dtype=float)"
      ],
      "metadata": {
        "id": "Blr2Nd4aNsNe"
      },
      "execution_count": null,
      "outputs": []
    },
    {
      "cell_type": "code",
      "source": [
        "modelo = modeloS()\n",
        "modelo.compile(optimizer=optimizers.Adam(lr=0.1),loss='mse', metrics=['mse'])\n",
        "historia =  modelo.fit(x=celsius,y=kelvin,epochs=200, verbose=False )"
      ],
      "metadata": {
        "id": "CA1f-7YTQR7Q"
      },
      "execution_count": null,
      "outputs": []
    },
    {
      "cell_type": "code",
      "source": [
        "plt.xlabel('epochs')\n",
        "plt.ylabel('magnitud de perdida')\n",
        "plt.plot(historia.history['loss'])"
      ],
      "metadata": {
        "colab": {
          "base_uri": "https://localhost:8080/",
          "height": 467
        },
        "id": "dJbkmKOhWTOg",
        "outputId": "8fe0119b-91fb-4888-8d8f-89964de5b45a"
      },
      "execution_count": null,
      "outputs": [
        {
          "output_type": "execute_result",
          "data": {
            "text/plain": [
              "[<matplotlib.lines.Line2D at 0x7f61a6681750>]"
            ]
          },
          "metadata": {},
          "execution_count": 56
        },
        {
          "output_type": "display_data",
          "data": {
            "text/plain": [
              "<Figure size 640x480 with 1 Axes>"
            ],
            "image/png": "[encoded data removed]"
          },
          "metadata": {}
        }
      ]
    },
    {
      "cell_type": "code",
      "source": [
        "kelvin_predict = modelo.predict([150])\n",
        "print(f'la temperatura es {kelvin_predict} °kelvin')"
      ],
      "metadata": {
        "colab": {
          "base_uri": "https://localhost:8080/"
        },
        "id": "ZvYo4bn2Xcmf",
        "outputId": "35c0a663-3a27-483b-a990-394a9df2913d"
      },
      "execution_count": null,
      "outputs": [
        {
          "output_type": "stream",
          "name": "stdout",
          "text": [
            "1/1 [==============================] - 0s 88ms/step\n",
            "la temperatura es [[423.09418]] °kelvin\n"
          ]
        }
      ]
    },
    {
      "cell_type": "markdown",
      "source": [
        "# Red neuronal con numpy"
      ],
      "metadata": {
        "id": "QvJmEvla6kTK"
      }
    },
    {
      "cell_type": "code",
      "source": [
        "housing = pd.read_csv('/content/housing.csv')\n",
        "housing.head()"
      ],
      "metadata": {
        "colab": {
          "base_uri": "https://localhost:8080/",
          "height": 206
        },
        "id": "8HrVOjpehhll",
        "outputId": "a7a14387-6da1-4fd5-cf5b-bee9aaa6dedc"
      },
      "execution_count": null,
      "outputs": [
        {
          "output_type": "execute_result",
          "data": {
            "text/plain": [
              "      RM  LSTAT  PTRATIO      MEDV\n",
              "0  6.575   4.98     15.3  504000.0\n",
              "1  6.421   9.14     17.8  453600.0\n",
              "2  7.185   4.03     17.8  728700.0\n",
              "3  6.998   2.94     18.7  701400.0\n",
              "4  7.147   5.33     18.7  760200.0"
            ],
            "text/html": [
              "\n",
              "  <div id=\"df-c2dba18c-8c41-4874-b231-f434387ce80a\">\n",
              "    <div class=\"colab-df-container\">\n",
              "      <div>\n",
              "<style scoped>\n",
              "    .dataframe tbody tr th:only-of-type {\n",
              "        vertical-align: middle;\n",
              "    }\n",
              "\n",
              "    .dataframe tbody tr th {\n",
              "        vertical-align: top;\n",
              "    }\n",
              "\n",
              "    .dataframe thead th {\n",
              "        text-align: right;\n",
              "    }\n",
              "</style>\n",
              "<table border=\"1\" class=\"dataframe\">\n",
              "  <thead>\n",
              "    <tr style=\"text-align: right;\">\n",
              "      <th></th>\n",
              "      <th>RM</th>\n",
              "      <th>LSTAT</th>\n",
              "      <th>PTRATIO</th>\n",
              "      <th>MEDV</th>\n",
              "    </tr>\n",
              "  </thead>\n",
              "  <tbody>\n",
              "    <tr>\n",
              "      <th>0</th>\n",
              "      <td>6.575</td>\n",
              "      <td>4.98</td>\n",
              "      <td>15.3</td>\n",
              "      <td>504000.0</td>\n",
              "    </tr>\n",
              "    <tr>\n",
              "      <th>1</th>\n",
              "      <td>6.421</td>\n",
              "      <td>9.14</td>\n",
              "      <td>17.8</td>\n",
              "      <td>453600.0</td>\n",
              "    </tr>\n",
              "    <tr>\n",
              "      <th>2</th>\n",
              "      <td>7.185</td>\n",
              "      <td>4.03</td>\n",
              "      <td>17.8</td>\n",
              "      <td>728700.0</td>\n",
              "    </tr>\n",
              "    <tr>\n",
              "      <th>3</th>\n",
              "      <td>6.998</td>\n",
              "      <td>2.94</td>\n",
              "      <td>18.7</td>\n",
              "      <td>701400.0</td>\n",
              "    </tr>\n",
              "    <tr>\n",
              "      <th>4</th>\n",
              "      <td>7.147</td>\n",
              "      <td>5.33</td>\n",
              "      <td>18.7</td>\n",
              "      <td>760200.0</td>\n",
              "    </tr>\n",
              "  </tbody>\n",
              "</table>\n",
              "</div>\n",
              "      <button class=\"colab-df-convert\" onclick=\"convertToInteractive('df-c2dba18c-8c41-4874-b231-f434387ce80a')\"\n",
              "              title=\"Convert this dataframe to an interactive table.\"\n",
              "              style=\"display:none;\">\n",
              "        \n",
              "  <svg xmlns=\"http://www.w3.org/2000/svg\" height=\"24px\"viewBox=\"0 0 24 24\"\n",
              "       width=\"24px\">\n",
              "    <path d=\"M0 0h24v24H0V0z\" fill=\"none\"/>\n",
              "    <path d=\"M18.56 5.44l.94 2.06.94-2.06 2.06-.94-2.06-.94-.94-2.06-.94 2.06-2.06.94zm-11 1L8.5 8.5l.94-2.06 2.06-.94-2.06-.94L8.5 2.5l-.94 2.06-2.06.94zm10 10l.94 2.06.94-2.06 2.06-.94-2.06-.94-.94-2.06-.94 2.06-2.06.94z\"/><path d=\"M17.41 7.96l-1.37-1.37c-.4-.4-.92-.59-1.43-.59-.52 0-1.04.2-1.43.59L10.3 9.45l-7.72 7.72c-.78.78-.78 2.05 0 2.83L4 21.41c.39.39.9.59 1.41.59.51 0 1.02-.2 1.41-.59l7.78-7.78 2.81-2.81c.8-.78.8-2.07 0-2.86zM5.41 20L4 18.59l7.72-7.72 1.47 1.35L5.41 20z\"/>\n",
              "  </svg>\n",
              "      </button>\n",
              "      \n",
              "  <style>\n",
              "    .colab-df-container {\n",
              "      display:flex;\n",
              "      flex-wrap:wrap;\n",
              "      gap: 12px;\n",
              "    }\n",
              "\n",
              "    .colab-df-convert {\n",
              "      background-color: #E8F0FE;\n",
              "      border: none;\n",
              "      border-radius: 50%;\n",
              "      cursor: pointer;\n",
              "      display: none;\n",
              "      fill: #1967D2;\n",
              "      height: 32px;\n",
              "      padding: 0 0 0 0;\n",
              "      width: 32px;\n",
              "    }\n",
              "\n",
              "    .colab-df-convert:hover {\n",
              "      background-color: #E2EBFA;\n",
              "      box-shadow: 0px 1px 2px rgba(60, 64, 67, 0.3), 0px 1px 3px 1px rgba(60, 64, 67, 0.15);\n",
              "      fill: #174EA6;\n",
              "    }\n",
              "\n",
              "    [theme=dark] .colab-df-convert {\n",
              "      background-color: #3B4455;\n",
              "      fill: #D2E3FC;\n",
              "    }\n",
              "\n",
              "    [theme=dark] .colab-df-convert:hover {\n",
              "      background-color: #434B5C;\n",
              "      box-shadow: 0px 1px 3px 1px rgba(0, 0, 0, 0.15);\n",
              "      filter: drop-shadow(0px 1px 2px rgba(0, 0, 0, 0.3));\n",
              "      fill: #FFFFFF;\n",
              "    }\n",
              "  </style>\n",
              "\n",
              "      <script>\n",
              "        const buttonEl =\n",
              "          document.querySelector('#df-c2dba18c-8c41-4874-b231-f434387ce80a button.colab-df-convert');\n",
              "        buttonEl.style.display =\n",
              "          google.colab.kernel.accessAllowed ? 'block' : 'none';\n",
              "\n",
              "        async function convertToInteractive(key) {\n",
              "          const element = document.querySelector('#df-c2dba18c-8c41-4874-b231-f434387ce80a');\n",
              "          const dataTable =\n",
              "            await google.colab.kernel.invokeFunction('convertToInteractive',\n",
              "                                                     [key], {});\n",
              "          if (!dataTable) return;\n",
              "\n",
              "          const docLinkHtml = 'Like what you see? Visit the ' +\n",
              "            '<a target=\"_blank\" href=https://colab.research.google.com/notebooks/data_table.ipynb>data table notebook</a>'\n",
              "            + ' to learn more about interactive tables.';\n",
              "          element.innerHTML = '';\n",
              "          dataTable['output_type'] = 'display_data';\n",
              "          await google.colab.output.renderOutput(dataTable, element);\n",
              "          const docLink = document.createElement('div');\n",
              "          docLink.innerHTML = docLinkHtml;\n",
              "          element.appendChild(docLink);\n",
              "        }\n",
              "      </script>\n",
              "    </div>\n",
              "  </div>\n",
              "  "
            ]
          },
          "metadata": {},
          "execution_count": 23
        }
      ]
    },
    {
      "cell_type": "code",
      "source": [
        "# se inicia la red neuronal\n",
        "def iniciar(capas_dim):\n",
        "  parameters = {}\n",
        "  L = len(capas_dim)         \n",
        "  for l in range(0, L-1):\n",
        "        parameters['W' + str(l+1)] = np.random.rand(capas_dim[l], capas_dim[l+1])\n",
        "        parameters['b' + str(l+1)] = np.random.rand(1, capas_dim[l+1])\n",
        "  return parameters\n"
      ],
      "metadata": {
        "id": "OwqHbWFZh7SL"
      },
      "execution_count": null,
      "outputs": []
    },
    {
      "cell_type": "code",
      "source": [
        "#se crean las funciones de activación sigmoid y relu\n",
        "\n",
        "def sigmoid(x, derivate = False):\n",
        "    if derivate:\n",
        "        return np.exp(-x)/(( np.exp(-x) +1)**2)\n",
        "    else:    \n",
        "        return 1 / (1 + np.exp(-x))\n",
        "\n",
        "def relu(x, derivate = False):\n",
        "    if derivate:\n",
        "        return np.where(x <= 0,0,1)\n",
        "    else:    \n",
        "        return np.maximum(0,x)"
      ],
      "metadata": {
        "id": "6gDcZT658v5l"
      },
      "execution_count": null,
      "outputs": []
    },
    {
      "cell_type": "code",
      "source": [
        "#funcion de perdida que permite ajustar los parametros random\n",
        "\n",
        "def mse(y,y_hat,derivate=False):\n",
        "    if derivate:\n",
        "        return (y_hat - y)\n",
        "    else:            \n",
        "        return np.mean((y_hat - y)**2)"
      ],
      "metadata": {
        "id": "3yce36oOGz3u"
      },
      "execution_count": null,
      "outputs": []
    },
    {
      "cell_type": "code",
      "source": [
        "#entrenamiento de la red\n",
        "\n",
        "def train(X,lr,params,training=True):\n",
        "  #foward\n",
        "  L = len(capas_dim)\n",
        "  params['A0'] = X\n",
        "  for k in range(0,L-1):\n",
        "    params['Z' + str(k+1)] = np.matmul(params['A' + str(k)],params['W' + str(k+1)]) + params['b' + str(k+1)]\n",
        "    params['A' + str(k+1)] = relu(params['Z' + str(k+1)])\n",
        "  \n",
        "  output = params['A' + str(L-1)]\n",
        "  error = mse(Y_std,output,True)\n",
        "\n",
        "  if training:\n",
        "    #backpropagation\n",
        "    for k in range(L-1,0,-1):\n",
        "      params['dZ' + str(k)] = error * relu(params['A' + str(k)],True)\n",
        "      params['dW' + str(k)] = np.matmul(params['A' + str(k-1)].T,params['dZ' + str(k)])\n",
        "\n",
        "      params['W' + str(k)] = params['W' + str(k)] - params['dW' + str(k)] * lr\n",
        "      params['b' + str(k)] = params['b' + str(k)] - (np.mean(params['dZ' + str(k)],axis=0, keepdims=True)) * lr\n",
        "\n",
        "  return output"
      ],
      "metadata": {
        "id": "9-7Kzua4jWCu"
      },
      "execution_count": null,
      "outputs": []
    },
    {
      "cell_type": "code",
      "source": [
        "#estandarizar los datos\n",
        "def std(X,Y):\n",
        "  X = (X - np.mean(X, axis=0))/(np.std(X,axis=0))\n",
        "  Y = (Y - np.mean(Y, axis=0))/(np.std(Y,axis=0))\n",
        "  Y = Y[:,np.newaxis]\n",
        "\n",
        "  return X,Y"
      ],
      "metadata": {
        "id": "VeQSHwVIufd9"
      },
      "execution_count": null,
      "outputs": []
    },
    {
      "cell_type": "code",
      "source": [
        "#datos\n",
        "X = housing[['RM','LSTAT','PTRATIO']].to_numpy()\n",
        "Y = housing['MEDV'].to_numpy()\n",
        "\n",
        "\n",
        "capas_dim = [3, 4, 3, 1]\n",
        "epochs = 1000\n",
        "params = iniciar(capas_dim)\n",
        "errors = []\n",
        "# X = stand(X)\n",
        "X_std, Y_std = std(X,Y)\n",
        "for _ in range(epochs):\n",
        "    output = train(X_std,0.0001,params)\n",
        "    errors.append(mse(Y_std,output))\n",
        "    #print(mse(Y_std,output))"
      ],
      "metadata": {
        "id": "rbalLkaOmt_h"
      },
      "execution_count": null,
      "outputs": []
    },
    {
      "cell_type": "code",
      "source": [
        "plt.plot(errors) # Grafica de los errores"
      ],
      "metadata": {
        "colab": {
          "base_uri": "https://localhost:8080/",
          "height": 448
        },
        "id": "fCwxpoEux3Qe",
        "outputId": "f7c9e5a0-b94c-40da-c5c3-cc7ef3ce1354"
      },
      "execution_count": null,
      "outputs": [
        {
          "output_type": "execute_result",
          "data": {
            "text/plain": [
              "[<matplotlib.lines.Line2D at 0x7f62047eb190>]"
            ]
          },
          "metadata": {},
          "execution_count": 40
        },
        {
          "output_type": "display_data",
          "data": {
            "text/plain": [
              "<Figure size 640x480 with 1 Axes>"
            ],
            "image/png": "[encoded data removed]"
          },
          "metadata": {}
        }
      ]
    },
    {
      "cell_type": "code",
      "source": [
        "#Se hace una predicción\n",
        "data_test = [6.5, 5.2, 18.7]\n",
        "y = np.array(data_test)\n",
        "for k in range (0,len(capas_dim)-1):\n",
        "  y = np.matmul(y,params['W' + str(k+1)]) + params['b' + str(k+1)]\n",
        "\n",
        "print(y)"
      ],
      "metadata": {
        "colab": {
          "base_uri": "https://localhost:8080/"
        },
        "id": "bFsPr1TlzfWe",
        "outputId": "2d398d00-f242-4b31-fc51-a61237bd614c"
      },
      "execution_count": null,
      "outputs": [
        {
          "output_type": "stream",
          "name": "stdout",
          "text": [
            "[[597269.8388799]]\n"
          ]
        }
      ]
    }
  ]
}
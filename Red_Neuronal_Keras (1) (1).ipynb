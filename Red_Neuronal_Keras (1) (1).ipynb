{
  "nbformat": 4,
  "nbformat_minor": 0,
  "metadata": {
    "colab": {
      "provenance": []
    },
    "kernelspec": {
      "name": "python3",
      "display_name": "Python 3"
    },
    "language_info": {
      "name": "python"
    }
  },
  "cells": [
    {
      "cell_type": "markdown",
      "source": [
        "#Taller Teoría de Señales - Redes Neuronaes por Keras\n",
        "# 19 de Abril de 2023\n",
        "\n",
        "###*Integrantes:*\n",
        "#####Daniel Steven Lozada - 1010148612\n",
        "#####Federico Lopez - 1002576446\n",
        "#####Santiago Erazo Mora - 1082658664"
      ],
      "metadata": {
        "id": "FMuXDUxXPX1V"
      }
    },
    {
      "cell_type": "code",
      "source": [
        "\"\"\"\n",
        "      ---------------------------------------------------------------\n",
        "Parameters\n",
        "      ---------------------------------------------------------------\n",
        "url -> Database hosting address\n",
        "column_names -> Variables selected for measurement.\n",
        "data -> Training data\n",
        "\n",
        "Returns\n",
        "      ---------------------------------------------------------------\n",
        "test_loss -> Returns the loss rate of the trained model.\n",
        "\n",
        "\"\"\"\n",
        "import numpy as np\n",
        "import pandas as pd\n",
        "import matplotlib.pyplot as plt\n",
        "import tensorflow as tf\n",
        "from sklearn.model_selection import train_test_split\n",
        "\n",
        "# Función de activación ReLU\n",
        "def relu(x):\n",
        "    return tf.maximum(0.0, x)\n",
        "\n",
        "# Función de activación sigmoide\n",
        "def sigmoid(x):\n",
        "    return tf.math.sigmoid(x)\n",
        "\n",
        "# Función de pérdida MSE\n",
        "def mse(y_true, y_pred):\n",
        "    return tf.reduce_mean(tf.square(y_true - y_pred))\n",
        "\n",
        "# Preprocesamiento de los datos\n",
        "url = \"https://archive.ics.uci.edu/ml/machine-learning-databases/heart-disease/processed.cleveland.data\"\n",
        "column_names = ['age', 'sex', 'cp', 'trestbps', 'chol', 'fbs', 'restecg', 'thalach', 'exang', 'oldpeak', 'slope', 'ca', 'thal', 'target']\n",
        "data = pd.read_csv(url, names=column_names)\n",
        "\n",
        "# Eliminar filas con valores nulos\n",
        "data = data.dropna()\n",
        "data = data.replace('?', np.nan)\n",
        "# Convertir los valores de las columnas a float\n",
        "data = data.astype(float)\n",
        "# Reemplazar valores faltantes por la media de la columna\n",
        "data = data.fillna(data.mean())\n",
        "# Convertir la columna 'target' a valores binarios (0 o 1)\n",
        "data['target'][data['target']>0] = 1\n",
        "# Dividir los datos en características (X) y etiquetas (Y)\n",
        "X = data.drop('target', axis=1)\n",
        "Y = data['target'].values.reshape(-1,1)\n",
        "\n",
        "# Dividir los datos en conjuntos de entrenamiento y prueba\n",
        "X_train, X_test, Y_train, Y_test = train_test_split(X, Y, test_size=0.2)\n",
        "\n",
        "# Crear modelo en Keras\n",
        "model = tf.keras.Sequential([\n",
        "    tf.keras.layers.Input(shape=X_train.shape[1]),\n",
        "    tf.keras.layers.Dense(32, activation=relu),\n",
        "    tf.keras.layers.Dense(16, activation=relu),\n",
        "    tf.keras.layers.Dense(1, activation=sigmoid)\n",
        "])\n",
        "\n",
        "# Compilar modelo\n",
        "model.compile(optimizer=tf.keras.optimizers.Adam(learning_rate=0.0001),\n",
        "              loss=mse)\n",
        "\n",
        "# Entrenar modelo\n",
        "history = model.fit(X_train, Y_train, epochs=10000, batch_size=32, verbose=0)\n",
        "\n",
        "# Evaluar modelo en conjunto de prueba\n",
        "test_loss = model.evaluate(X_test, Y_test, verbose=0)\n",
        "\n",
        "# Obtener predicciones del conjunto de prueba\n",
        "Y_pred = model.predict(X_test)\n",
        "print(\"Test loss:\", test_loss)\n",
        "\n",
        "# Obtener predicciones del conjunto de prueba\n",
        "\n",
        "# Gráfico del error de entrenamiento\n",
        "plt.plot(history.history['loss'])\n",
        "plt.title(\"Train loss over time\")\n",
        "plt.xlabel(\"Epochs\")\n",
        "plt.ylabel(\"Train loss\")\n",
        "plt.show()\n",
        "\n",
        "\n",
        "\n",
        "\n"
      ],
      "metadata": {
        "colab": {
          "base_uri": "https://localhost:8080/",
          "height": 506
        },
        "id": "moh2npp2ihQq",
        "outputId": "c6524c54-bcf1-4fdd-e3e4-791832d04600"
      },
      "execution_count": 1,
      "outputs": [
        {
          "output_type": "stream",
          "name": "stdout",
          "text": [
            "2/2 [==============================] - 0s 8ms/step\n",
            "Test loss: 0.11702912300825119\n"
          ]
        },
        {
          "output_type": "display_data",
          "data": {
            "text/plain": [
              "<Figure size 640x480 with 1 Axes>"
            ],
            "image/png": "[encoded data removed]"
          },
          "metadata": {}
        }
      ]
    },
    {
      "cell_type": "code",
      "source": [
        "##Edad: 63\n",
        "#Sexo: 1 (hombre)\n",
        "#Tipo de dolor de pecho: 3 (dolor atípico)\n",
        "#Presión arterial en reposo: 145\n",
        "#Colesterol sérico en mg/dl: 233\n",
        "#Azúcar en sangre en ayunas > 120 mg/dl: 1 (verdadero)\n",
        "#Resultados electrocardiográficos en reposo: 0\n",
        "#Frecuencia cardíaca máxima alcanzada: 150\n",
        "#Ejercicio inducido angina: 0 (no)\n",
        "#ST depression inducido por el ejercicio relativo al descanso: 2.3\n",
        "#Pendiente del segmento ST de ejercicio pico: 0\n",
        "#Número de vasos principales coloreados por flourosopía: 0\n",
        "#Talasemia: 1\n",
        "\n",
        "\n",
        "new_data = np.array([[63, 1, 3, 145, 233, 1, 0, 150, 0, 2.3, 0, 0, 1]]) # Datos de prueba\n",
        "prediction = model.predict(new_data)\n",
        "print(\"Prediction:\", prediction)"
      ],
      "metadata": {
        "colab": {
          "base_uri": "https://localhost:8080/"
        },
        "id": "9F9GW0afkGBN",
        "outputId": "d9554565-a22a-4d67-93da-1eca26b0f19d"
      },
      "execution_count": 2,
      "outputs": [
        {
          "output_type": "stream",
          "name": "stdout",
          "text": [
            "1/1 [==============================] - 0s 55ms/step\n",
            "Prediction: [[0.07633078]]\n"
          ]
        }
      ]
    }
  ]
}